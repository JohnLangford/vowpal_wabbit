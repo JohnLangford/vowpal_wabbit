{
 "cells": [
  {
   "cell_type": "code",
   "execution_count": 1,
   "metadata": {},
   "outputs": [
    {
     "name": "stdout",
     "output_type": "stream",
     "text": [
      "training score: 0.522125\n",
      "testing score: 0.511\n"
     ]
    }
   ],
   "source": [
    "# Binary Classification\n",
    "\n",
    "from __future__ import print_function\n",
    "\n",
    "# import warnings filter\n",
    "from warnings import simplefilter\n",
    "# ignore all future warnings\n",
    "simplefilter(action='ignore', category=FutureWarning)\n",
    "\n",
    "from vowpalwabbit.sklearn_vw import VWClassifier\n",
    "\n",
    "import numpy as np\n",
    "from sklearn import datasets\n",
    "from sklearn.model_selection import train_test_split\n",
    "\n",
    "# get some data\n",
    "X, y = datasets.make_hastie_10_2(n_samples=10000, random_state=1)\n",
    "X = X.astype(np.float32)\n",
    "\n",
    "# split train and test set\n",
    "X_train, X_test, y_train, y_test = train_test_split(X, y, test_size=0.2, random_state=256)\n",
    "\n",
    "# build vowpal wabbit model\n",
    "model = VWClassifier()\n",
    "model.fit(X_train, y_train)\n",
    "\n",
    "# evaluate\n",
    "print('training score: {}'.format(model.score(X_train, y_train)))\n",
    "print('testing score: {}'.format(model.score(X_test, y_test)))"
   ]
  },
  {
   "cell_type": "code",
   "execution_count": 2,
   "metadata": {},
   "outputs": [
    {
     "name": "stdout",
     "output_type": "stream",
     "text": [
      "Parameter search took 45.81 seconds for 20 candidate parameter settings.\n",
      "Model with rank: 1\n",
      "Mean validation score: 0.548 (std: 0.004)\n",
      "Parameters: {'l': 0.01, 'l2': 0.0069182029910348341, 'power_t': 0.35950790057378601}\n",
      "\n",
      "Model with rank: 2\n",
      "Mean validation score: 0.547 (std: 0.011)\n",
      "Parameters: {'l': 0.1, 'l2': 0.0067676671544566773, 'power_t': 0.67063786961815941}\n",
      "\n",
      "Model with rank: 3\n",
      "Mean validation score: 0.544 (std: 0.020)\n",
      "Parameters: {'l': 0.1, 'l2': 0.0080172503808266446, 'power_t': 0.52889491975290448}\n",
      "\n"
     ]
    }
   ],
   "source": [
    "# Parameter Grid Search\n",
    "# https://scikit-learn.org/stable/auto_examples/model_selection/plot_randomized_search.html#sphx-glr-auto-examples-model-selection-plot-randomized-search-py\n",
    "\n",
    "import pandas as pd\n",
    "from operator import itemgetter\n",
    "from time import time\n",
    "from sklearn.model_selection import RandomizedSearchCV\n",
    "from scipy.stats.distributions import uniform\n",
    "\n",
    "# Utility function to report best scores\n",
    "def report(grid_scores, n_top=3):\n",
    "    top_scores = grid_scores.nlargest(n_top, 'mean_test_score')\n",
    "    i = 0\n",
    "    for score in top_scores.itertuples(index=False):\n",
    "        print(\"Model with rank: {0}\".format(i + 1))\n",
    "        print(\"Mean validation score: {0:.3f} (std: {1:.3f})\".format(\n",
    "              getattr(score, 'mean_test_score'),\n",
    "              getattr(score, 'std_test_score')))\n",
    "        print(\"Parameters: {0}\".format(getattr(score, 'params')))\n",
    "        print(\"\")\n",
    "        i += 1\n",
    "        \n",
    "# use a full grid over all parameters\n",
    "np.random.seed(0)\n",
    "n_iter = 20\n",
    "params = {\"l2\": uniform(0.0001, 0.01),\n",
    "          \"l\": [0.01, 0.1, 1.0],\n",
    "          \"power_t\": uniform()}\n",
    "\n",
    "# run search\n",
    "search = RandomizedSearchCV(VWClassifier(), param_distributions=params, n_iter=n_iter)\n",
    "start = time()\n",
    "search.fit(X, y)\n",
    "\n",
    "results = pd.DataFrame(search.cv_results_)\n",
    "\n",
    "print(\"Parameter search took %.2f seconds for %d candidate parameter settings.\"\n",
    "      % (time() - start, results.shape[0]))\n",
    "report(results)"
   ]
  },
  {
   "cell_type": "code",
   "execution_count": 3,
   "metadata": {},
   "outputs": [
    {
     "name": "stdout",
     "output_type": "stream",
     "text": [
      "training score: 0.55475\n",
      "testing score: 0.541\n"
     ]
    }
   ],
   "source": [
    "# evaluate\n",
    "model = VWClassifier(loss_function='logistic', l=0.01, l2=0.1)\n",
    "model.fit(X_train, y_train)\n",
    "\n",
    "print('training score: {}'.format(model.score(X_train, y_train)))\n",
    "print('testing score: {}'.format(model.score(X_test, y_test)))\n",
    "\n",
    "# cleanup\n",
    "del model"
   ]
  },
  {
   "cell_type": "code",
   "execution_count": 4,
   "metadata": {},
   "outputs": [
    {
     "name": "stdout",
     "output_type": "stream",
     "text": [
      "intercept: 146.3594207763672\n",
      "predictions: [ 194.89271545   71.24694061  164.77398682  158.98957825  130.94726562\n",
      "  104.06398773   71.54695129  123.39063263  144.63090515  206.62692261]\n",
      "training R2 score: 0.5049730120129137\n"
     ]
    }
   ],
   "source": [
    "# Linear Regression\n",
    "\n",
    "from vowpalwabbit.sklearn_vw import VWRegressor\n",
    "from sklearn import datasets\n",
    "\n",
    "# Load the diabetes dataset\n",
    "diabetes = datasets.load_diabetes()\n",
    "X = diabetes.data\n",
    "y = diabetes.target\n",
    "\n",
    "model = VWRegressor(l=100)\n",
    "model.fit(X, y)\n",
    "\n",
    "print('intercept: {}'.format(model.get_intercept()))\n",
    "print('predictions: {}'.format(model.predict(X[:10])))\n",
    "print('training R2 score: {}'.format(model.score(X, y)))"
   ]
  },
  {
   "cell_type": "code",
   "execution_count": 5,
   "metadata": {},
   "outputs": [
    {
     "name": "stdout",
     "output_type": "stream",
     "text": [
      "intercept: 146.3594207763672\n",
      "predictions: [ 194.89271545   71.24694061  164.77398682  158.98957825  130.94726562\n",
      "  104.06398773   71.54695129  123.39063263  144.63090515  206.62692261]\n",
      "training R2 score: 0.5049730120129137\n"
     ]
    }
   ],
   "source": [
    "# Save the model and reload it\n",
    "model.save('test.model')\n",
    "del model\n",
    "model = VWRegressor()\n",
    "model.load('test.model')\n",
    "print('intercept: {}'.format(model.get_intercept()))\n",
    "print('predictions: {}'.format(model.predict(X[:10])))\n",
    "print('training R2 score: {}'.format(model.score(X, y)))"
   ]
  }
 ],
 "metadata": {
  "kernelspec": {
   "display_name": "Python 3",
   "language": "python",
   "name": "python3"
  },
  "language_info": {
   "codemirror_mode": {
    "name": "ipython",
    "version": 3
   },
   "file_extension": ".py",
   "mimetype": "text/x-python",
   "name": "python",
   "nbconvert_exporter": "python",
   "pygments_lexer": "ipython3",
   "version": "3.6.9"
  }
 },
 "nbformat": 4,
 "nbformat_minor": 1
}

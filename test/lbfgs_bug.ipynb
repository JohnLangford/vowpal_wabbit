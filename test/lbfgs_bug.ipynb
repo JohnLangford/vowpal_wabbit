{
 "cells": [
  {
   "cell_type": "code",
   "execution_count": 5,
   "id": "da64c594",
   "metadata": {},
   "outputs": [],
   "source": [
    "from vowpalwabbit import pyvw\n",
    "model = pyvw.vw(\"-c -k -d train-sets/lbfgs_bug.dat --bfgs --passes 12\")"
   ]
  },
  {
   "cell_type": "code",
   "execution_count": null,
   "id": "4c9df180",
   "metadata": {},
   "outputs": [],
   "source": []
  },
  {
   "cell_type": "code",
   "execution_count": null,
   "id": "a09701ce",
   "metadata": {},
   "outputs": [],
   "source": []
  },
  {
   "cell_type": "code",
   "execution_count": null,
   "id": "fc7cbde5",
   "metadata": {},
   "outputs": [],
   "source": []
  },
  {
   "cell_type": "code",
   "execution_count": 6,
   "id": "e80f6cef",
   "metadata": {},
   "outputs": [
    {
     "name": "stdout",
     "output_type": "stream",
     "text": [
      "-0.12824761867523193\n",
      "-0.7426717281341553\n",
      "-1.0\n",
      "-0.14843536913394928\n",
      "-0.3178544044494629\n"
     ]
    }
   ],
   "source": [
    "right = 0\n",
    "wrong = 0\n",
    "with open(\"train-sets/lbfgs_bug.dat\", \"r\") as file:\n",
    "    for line in file.readlines():\n",
    "        real = int(line.split(' ')[0])\n",
    "        feats = \" \".join(line.split(' ')[1:])\n",
    "        pred = model.predict(feats)\n",
    "        print(pred)\n",
    "        if (pred < 0 and real < 0) or (pred > 0 and real > 0):\n",
    "            right += 1\n",
    "        else:\n",
    "            wrong += 1"
   ]
  },
  {
   "cell_type": "code",
   "execution_count": 7,
   "id": "2ac985d9",
   "metadata": {},
   "outputs": [
    {
     "name": "stdout",
     "output_type": "stream",
     "text": [
      "3 2\n"
     ]
    }
   ],
   "source": [
    "print(right,wrong)"
   ]
  },
  {
   "cell_type": "code",
   "execution_count": 8,
   "id": "e93bfa18",
   "metadata": {},
   "outputs": [
    {
     "data": {
      "text/plain": [
       "0.6"
      ]
     },
     "execution_count": 8,
     "metadata": {},
     "output_type": "execute_result"
    }
   ],
   "source": [
    "right / (right + wrong)"
   ]
  },
  {
   "cell_type": "code",
   "execution_count": null,
   "id": "a3114159",
   "metadata": {},
   "outputs": [],
   "source": []
  }
 ],
 "metadata": {
  "kernelspec": {
   "display_name": "Python 3",
   "language": "python",
   "name": "python3"
  },
  "language_info": {
   "codemirror_mode": {
    "name": "ipython",
    "version": 3
   },
   "file_extension": ".py",
   "mimetype": "text/x-python",
   "name": "python",
   "nbconvert_exporter": "python",
   "pygments_lexer": "ipython3",
   "version": "3.8.5"
  }
 },
 "nbformat": 4,
 "nbformat_minor": 5
}

{
 "cells": [
  {
   "cell_type": "code",
   "execution_count": 1,
   "id": "da2bcf2c",
   "metadata": {},
   "outputs": [],
   "source": [
    "from vowpalwabbit import pyvw\n",
    "import random\n",
    "import matplotlib.pyplot as plt"
   ]
  },
  {
   "cell_type": "code",
   "execution_count": 2,
   "id": "c1bcaf47",
   "metadata": {},
   "outputs": [
    {
     "name": "stdout",
     "output_type": "stream",
     "text": [
      "8.11.0\n"
     ]
    }
   ],
   "source": [
    "import vowpalwabbit\n",
    "print(vowpalwabbit.__version__)"
   ]
  },
  {
   "cell_type": "code",
   "execution_count": 3,
   "id": "26f05226",
   "metadata": {},
   "outputs": [],
   "source": [
    "# VW tries to minimize loss/cost, therefore we will pass cost as -reward\n",
    "USER_LIKED_ARTICLE = -1.0\n",
    "USER_DISLIKED_ARTICLE = 0.0"
   ]
  },
  {
   "cell_type": "code",
   "execution_count": 4,
   "id": "b987535f",
   "metadata": {},
   "outputs": [],
   "source": [
    "def get_cost(context,action):\n",
    "    if context['user'] == \"Tom\":\n",
    "        if context['time_of_day'] == \"morning\" and action == 'politics':\n",
    "            return USER_LIKED_ARTICLE\n",
    "        elif context['time_of_day'] == \"afternoon\" and action == 'music':\n",
    "            return USER_LIKED_ARTICLE\n",
    "        else:\n",
    "            return USER_DISLIKED_ARTICLE\n",
    "    elif context['user'] == \"Anna\":\n",
    "        if context['time_of_day'] == \"morning\" and action == 'sports':\n",
    "            return USER_LIKED_ARTICLE\n",
    "        elif context['time_of_day'] == \"afternoon\" and action == 'politics':\n",
    "            return USER_LIKED_ARTICLE\n",
    "        else:\n",
    "            return USER_DISLIKED_ARTICLE"
   ]
  },
  {
   "cell_type": "code",
   "execution_count": 5,
   "id": "24f7df51",
   "metadata": {},
   "outputs": [],
   "source": [
    "# This function modifies (context, action, cost, probability) to VW friendly format\n",
    "def to_vw_example_format(context, actions, cb_label = None):\n",
    "    if cb_label is not None:\n",
    "        chosen_action, cost, prob = cb_label\n",
    "    example_string = \"\"\n",
    "    example_string += \"shared |User user={} time_of_day={}\\n\".format(context[\"user\"], context[\"time_of_day\"])\n",
    "    for action in actions:\n",
    "        if cb_label is not None and action == chosen_action:\n",
    "            example_string += \"0:{}:{} \".format(cost, prob)\n",
    "        example_string += \"|Action article={} \\n\".format(action)\n",
    "    #Strip the last newline\n",
    "    return example_string[:-1]"
   ]
  },
  {
   "cell_type": "code",
   "execution_count": 6,
   "id": "cdbee230",
   "metadata": {},
   "outputs": [
    {
     "name": "stdout",
     "output_type": "stream",
     "text": [
      "shared |User user=Tom time_of_day=morning\n",
      "|Action article=politics \n",
      "|Action article=sports \n",
      "|Action article=music \n",
      "|Action article=food \n"
     ]
    }
   ],
   "source": [
    "context = {\"user\":\"Tom\",\"time_of_day\":\"morning\"}\n",
    "actions = [\"politics\", \"sports\", \"music\", \"food\"]\n",
    "\n",
    "print(to_vw_example_format(context,actions))"
   ]
  },
  {
   "cell_type": "code",
   "execution_count": 7,
   "id": "d4582076",
   "metadata": {},
   "outputs": [],
   "source": [
    "def sample_custom_pmf(pmf):\n",
    "    total = sum(pmf)\n",
    "    scale = 1 / total\n",
    "    pmf = [x * scale for x in pmf]\n",
    "    draw = random.random()\n",
    "    sum_prob = 0.0\n",
    "    for index, prob in enumerate(pmf):\n",
    "        sum_prob += prob\n",
    "        if(sum_prob > draw):\n",
    "            return index, prob"
   ]
  },
  {
   "cell_type": "code",
   "execution_count": 8,
   "id": "63393390",
   "metadata": {},
   "outputs": [],
   "source": [
    "def get_action(vw, context, actions):\n",
    "    vw_text_example = to_vw_example_format(context,actions)\n",
    "    pmf = vw.predict(vw_text_example)\n",
    "    chosen_action_index, prob = sample_custom_pmf(pmf)\n",
    "    return actions[chosen_action_index], prob"
   ]
  },
  {
   "cell_type": "code",
   "execution_count": 9,
   "id": "3841eb5c",
   "metadata": {},
   "outputs": [],
   "source": [
    "users = ['Tom', 'Anna']\n",
    "times_of_day = ['morning', 'afternoon']\n",
    "actions = [\"politics\", \"sports\", \"music\", \"food\", \"finance\", \"health\", \"camping\"]\n",
    "\n",
    "def choose_user(users):\n",
    "    return random.choice(users)\n",
    "\n",
    "def choose_time_of_day(times_of_day):\n",
    "    return random.choice(times_of_day)"
   ]
  },
  {
   "cell_type": "code",
   "execution_count": 10,
   "id": "0b6e264c",
   "metadata": {},
   "outputs": [],
   "source": [
    "def run_simulation(vw, num_iterations, users, times_of_day, actions, cost_function, do_learn = True):\n",
    "    cost_sum = 0.\n",
    "    ctr = []\n",
    "\n",
    "    for i in range(1, num_iterations+1):\n",
    "        # 1. In each simulation choose a user\n",
    "        user = choose_user(users)\n",
    "        # 2. Choose time of day for a given user\n",
    "        time_of_day = choose_time_of_day(times_of_day)\n",
    "\n",
    "        # 3. Pass context to vw to get an action\n",
    "        context = {'user': user, 'time_of_day': time_of_day}\n",
    "        action, prob = get_action(vw, context, actions)\n",
    "\n",
    "        # 4. Get cost of the action we chose\n",
    "        cost = cost_function(context, action)\n",
    "        cost_sum += cost\n",
    "\n",
    "        if do_learn:\n",
    "            # 5. Inform VW of what happened so we can learn from it\n",
    "            vw_format = vw.parse(to_vw_example_format(context, actions, (action, cost, prob)),pyvw.vw.lContextualBandit)\n",
    "            #print(to_vw_example_format(context, actions, (action, cost, prob)))\n",
    "            #print()\n",
    "            # 6. Learn\n",
    "            vw.learn(vw_format)\n",
    "            # 7. Let VW know you're done with these objects\n",
    "            vw.finish_example(vw_format)\n",
    "\n",
    "        # We negate this so that on the plot instead of minimizing cost, we are maximizing reward\n",
    "        ctr.append(-1*cost_sum/i)\n",
    "\n",
    "    return ctr"
   ]
  },
  {
   "cell_type": "code",
   "execution_count": 11,
   "id": "edd6b82f",
   "metadata": {},
   "outputs": [],
   "source": [
    "def plot_ctr(num_iterations, ctr):\n",
    "    plt.plot(range(1,num_iterations+1), ctr)\n",
    "    plt.xlabel('num_iterations', fontsize=14)\n",
    "    plt.ylabel('ctr', fontsize=14)\n",
    "    plt.ylim([0,1])"
   ]
  },
  {
   "cell_type": "code",
   "execution_count": 12,
   "id": "7eadd1e7",
   "metadata": {},
   "outputs": [
    {
     "data": {
      "image/png": "[encoded data removed]",
      "text/plain": [
       "<Figure size 432x288 with 1 Axes>"
      ]
     },
     "metadata": {
      "needs_background": "light"
     },
     "output_type": "display_data"
    }
   ],
   "source": [
    "# Instantiate learner in VW\n",
    "vw = pyvw.vw(\"--cb_explore_adf -q UA -f r.model --save_resume --quiet --first 6000\")\n",
    "\n",
    "num_iterations = 5000\n",
    "ctr = run_simulation(vw, num_iterations, users, times_of_day, actions, get_cost)\n",
    "\n",
    "plot_ctr(num_iterations, ctr)\n",
    "vw.finish()"
   ]
  },
  {
   "cell_type": "code",
   "execution_count": 13,
   "id": "8a914282",
   "metadata": {},
   "outputs": [
    {
     "name": "stdout",
     "output_type": "stream",
     "text": [
      "0.142\n"
     ]
    },
    {
     "data": {
      "image/png": "[encoded data removed]",
      "text/plain": [
       "<Figure size 432x288 with 1 Axes>"
      ]
     },
     "metadata": {
      "needs_background": "light"
     },
     "output_type": "display_data"
    }
   ],
   "source": [
    "# original model\n",
    "num_iterations = 5000\n",
    "ctr = run_simulation(vw, num_iterations, users, times_of_day, actions, get_cost, do_learn=False)\n",
    "\n",
    "plot_ctr(num_iterations, ctr)\n",
    "print(ctr[-1])"
   ]
  },
  {
   "cell_type": "code",
   "execution_count": 14,
   "id": "1acbf827",
   "metadata": {},
   "outputs": [
    {
     "name": "stdout",
     "output_type": "stream",
     "text": [
      "0.8278\n"
     ]
    },
    {
     "data": {
      "image/png": "[encoded data removed]",
      "text/plain": [
       "<Figure size 432x288 with 1 Axes>"
      ]
     },
     "metadata": {
      "needs_background": "light"
     },
     "output_type": "display_data"
    }
   ],
   "source": [
    "# loaded model\n",
    "vw_loaded=pyvw.vw('--cb_explore_adf -q UA -i r.model')\n",
    "num_iterations = 5000\n",
    "ctr = run_simulation(vw_loaded, num_iterations, users, times_of_day, actions, get_cost)\n",
    "\n",
    "plot_ctr(num_iterations, ctr)\n",
    "print(ctr[-1])"
   ]
  },
  {
   "cell_type": "code",
   "execution_count": null,
   "id": "38294650",
   "metadata": {},
   "outputs": [],
   "source": []
  }
 ],
 "metadata": {
  "kernelspec": {
   "display_name": "Python 3",
   "language": "python",
   "name": "python3"
  },
  "language_info": {
   "codemirror_mode": {
    "name": "ipython",
    "version": 3
   },
   "file_extension": ".py",
   "mimetype": "text/x-python",
   "name": "python",
   "nbconvert_exporter": "python",
   "pygments_lexer": "ipython3",
   "version": "3.8.5"
  }
 },
 "nbformat": 4,
 "nbformat_minor": 5
}
